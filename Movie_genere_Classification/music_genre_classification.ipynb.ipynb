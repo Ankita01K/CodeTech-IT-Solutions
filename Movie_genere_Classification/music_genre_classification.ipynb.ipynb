{
 "cells": [
  {
   "cell_type": "markdown",
   "id": "e1aa66d3",
   "metadata": {},
   "source": [
    "# Import Necessary Libraries"
   ]
  },
  {
   "cell_type": "code",
   "execution_count": 1,
   "id": "ad2d1f33",
   "metadata": {},
   "outputs": [
    {
     "name": "stderr",
     "output_type": "stream",
     "text": [
      "[nltk_data] Downloading package stopwords to\n",
      "[nltk_data]     C:\\Users\\RAM_ANURAG\\AppData\\Roaming\\nltk_data...\n",
      "[nltk_data]   Package stopwords is already up-to-date!\n"
     ]
    }
   ],
   "source": [
    "import pandas as pd\n",
    "import numpy as np\n",
    "import matplotlib.pyplot as plt\n",
    "import seaborn as sns\n",
    "from wordcloud import WordCloud\n",
    "import nltk\n",
    "from nltk.stem import LancasterStemmer\n",
    "from nltk.corpus import stopwords\n",
    "import string\n",
    "import re\n",
    "nltk.download('stopwords')\n",
    "from nltk.corpus import stopwords\n",
    "from nltk.stem.porter import PorterStemmer\n",
    "from sklearn.model_selection import train_test_split\n",
    "from sklearn.feature_extraction.text import TfidfVectorizer\n",
    "from sklearn.naive_bayes import MultinomialNB, GaussianNB, BernoulliNB\n",
    "from sklearn.linear_model import LogisticRegression\n",
    "from sklearn.svm import SVC\n",
    "from sklearn.metrics import classification_report, accuracy_score,confusion_matrix\n",
    "import shutil\n",
    "import os"
   ]
  },
  {
   "cell_type": "code",
   "execution_count": 2,
   "id": "74c11846",
   "metadata": {},
   "outputs": [],
   "source": [
    "# Load the testing data\n",
    "test_path = r'C:\\Users\\RAM_ANURAG\\Downloads\\Movie_genere_Classification\\test_data.txt\\test_data.txt'\n",
    "\n",
    "test_data = pd.read_csv(test_path, sep=':::', names=['Title', 'Description'], engine='python')"
   ]
  },
  {
   "cell_type": "code",
   "execution_count": 3,
   "id": "6e16b599",
   "metadata": {},
   "outputs": [
    {
     "data": {
      "text/html": [
       "<div>\n",
       "<style scoped>\n",
       "    .dataframe tbody tr th:only-of-type {\n",
       "        vertical-align: middle;\n",
       "    }\n",
       "\n",
       "    .dataframe tbody tr th {\n",
       "        vertical-align: top;\n",
       "    }\n",
       "\n",
       "    .dataframe thead th {\n",
       "        text-align: right;\n",
       "    }\n",
       "</style>\n",
       "<table border=\"1\" class=\"dataframe\">\n",
       "  <thead>\n",
       "    <tr style=\"text-align: right;\">\n",
       "      <th></th>\n",
       "      <th>Title</th>\n",
       "      <th>Description</th>\n",
       "    </tr>\n",
       "  </thead>\n",
       "  <tbody>\n",
       "    <tr>\n",
       "      <th>1</th>\n",
       "      <td>Edgar's Lunch (1998)</td>\n",
       "      <td>L.R. Brane loves his life - his car, his apar...</td>\n",
       "    </tr>\n",
       "    <tr>\n",
       "      <th>2</th>\n",
       "      <td>La guerra de papá (1977)</td>\n",
       "      <td>Spain, March 1964: Quico is a very naughty ch...</td>\n",
       "    </tr>\n",
       "    <tr>\n",
       "      <th>3</th>\n",
       "      <td>Off the Beaten Track (2010)</td>\n",
       "      <td>One year in the life of Albin and his family ...</td>\n",
       "    </tr>\n",
       "    <tr>\n",
       "      <th>4</th>\n",
       "      <td>Meu Amigo Hindu (2015)</td>\n",
       "      <td>His father has died, he hasn't spoken with hi...</td>\n",
       "    </tr>\n",
       "    <tr>\n",
       "      <th>5</th>\n",
       "      <td>Er nu zhai (1955)</td>\n",
       "      <td>Before he was known internationally as a mart...</td>\n",
       "    </tr>\n",
       "    <tr>\n",
       "      <th>...</th>\n",
       "      <td>...</td>\n",
       "      <td>...</td>\n",
       "    </tr>\n",
       "    <tr>\n",
       "      <th>54196</th>\n",
       "      <td>\"Tales of Light &amp; Dark\" (2013)</td>\n",
       "      <td>Covering multiple genres, Tales of Light &amp; Da...</td>\n",
       "    </tr>\n",
       "    <tr>\n",
       "      <th>54197</th>\n",
       "      <td>Der letzte Mohikaner (1965)</td>\n",
       "      <td>As Alice and Cora Munro attempt to find their...</td>\n",
       "    </tr>\n",
       "    <tr>\n",
       "      <th>54198</th>\n",
       "      <td>Oliver Twink (2007)</td>\n",
       "      <td>A movie 169 years in the making. Oliver Twist...</td>\n",
       "    </tr>\n",
       "    <tr>\n",
       "      <th>54199</th>\n",
       "      <td>Slipstream (1973)</td>\n",
       "      <td>Popular, but mysterious rock D.J Mike Mallard...</td>\n",
       "    </tr>\n",
       "    <tr>\n",
       "      <th>54200</th>\n",
       "      <td>Curitiba Zero Grau (2010)</td>\n",
       "      <td>Curitiba is a city in movement, with rhythms ...</td>\n",
       "    </tr>\n",
       "  </tbody>\n",
       "</table>\n",
       "<p>54200 rows × 2 columns</p>\n",
       "</div>"
      ],
      "text/plain": [
       "                                  Title  \\\n",
       "1                 Edgar's Lunch (1998)    \n",
       "2             La guerra de papá (1977)    \n",
       "3          Off the Beaten Track (2010)    \n",
       "4               Meu Amigo Hindu (2015)    \n",
       "5                    Er nu zhai (1955)    \n",
       "...                                 ...   \n",
       "54196   \"Tales of Light & Dark\" (2013)    \n",
       "54197      Der letzte Mohikaner (1965)    \n",
       "54198              Oliver Twink (2007)    \n",
       "54199                Slipstream (1973)    \n",
       "54200        Curitiba Zero Grau (2010)    \n",
       "\n",
       "                                             Description  \n",
       "1       L.R. Brane loves his life - his car, his apar...  \n",
       "2       Spain, March 1964: Quico is a very naughty ch...  \n",
       "3       One year in the life of Albin and his family ...  \n",
       "4       His father has died, he hasn't spoken with hi...  \n",
       "5       Before he was known internationally as a mart...  \n",
       "...                                                  ...  \n",
       "54196   Covering multiple genres, Tales of Light & Da...  \n",
       "54197   As Alice and Cora Munro attempt to find their...  \n",
       "54198   A movie 169 years in the making. Oliver Twist...  \n",
       "54199   Popular, but mysterious rock D.J Mike Mallard...  \n",
       "54200   Curitiba is a city in movement, with rhythms ...  \n",
       "\n",
       "[54200 rows x 2 columns]"
      ]
     },
     "execution_count": 3,
     "metadata": {},
     "output_type": "execute_result"
    }
   ],
   "source": [
    "test_data"
   ]
  },
  {
   "cell_type": "code",
   "execution_count": 4,
   "id": "a298be7b",
   "metadata": {},
   "outputs": [
    {
     "data": {
      "text/plain": [
       "(54200, 2)"
      ]
     },
     "execution_count": 4,
     "metadata": {},
     "output_type": "execute_result"
    }
   ],
   "source": [
    "test_data.shape"
   ]
  },
  {
   "cell_type": "code",
   "execution_count": 5,
   "id": "6f2333e8",
   "metadata": {},
   "outputs": [
    {
     "data": {
      "text/plain": [
       "Title          0\n",
       "Description    0\n",
       "dtype: int64"
      ]
     },
     "execution_count": 5,
     "metadata": {},
     "output_type": "execute_result"
    }
   ],
   "source": [
    "test_data.isnull().sum()"
   ]
  },
  {
   "cell_type": "code",
   "execution_count": 6,
   "id": "e7e4bb79",
   "metadata": {},
   "outputs": [
    {
     "data": {
      "text/html": [
       "<div>\n",
       "<style scoped>\n",
       "    .dataframe tbody tr th:only-of-type {\n",
       "        vertical-align: middle;\n",
       "    }\n",
       "\n",
       "    .dataframe tbody tr th {\n",
       "        vertical-align: top;\n",
       "    }\n",
       "\n",
       "    .dataframe thead th {\n",
       "        text-align: right;\n",
       "    }\n",
       "</style>\n",
       "<table border=\"1\" class=\"dataframe\">\n",
       "  <thead>\n",
       "    <tr style=\"text-align: right;\">\n",
       "      <th></th>\n",
       "      <th>Title</th>\n",
       "      <th>Text</th>\n",
       "    </tr>\n",
       "  </thead>\n",
       "  <tbody>\n",
       "    <tr>\n",
       "      <th>1</th>\n",
       "      <td>Edgar's Lunch (1998)</td>\n",
       "      <td>L.R. Brane loves his life - his car, his apar...</td>\n",
       "    </tr>\n",
       "    <tr>\n",
       "      <th>2</th>\n",
       "      <td>La guerra de papá (1977)</td>\n",
       "      <td>Spain, March 1964: Quico is a very naughty ch...</td>\n",
       "    </tr>\n",
       "    <tr>\n",
       "      <th>3</th>\n",
       "      <td>Off the Beaten Track (2010)</td>\n",
       "      <td>One year in the life of Albin and his family ...</td>\n",
       "    </tr>\n",
       "    <tr>\n",
       "      <th>4</th>\n",
       "      <td>Meu Amigo Hindu (2015)</td>\n",
       "      <td>His father has died, he hasn't spoken with hi...</td>\n",
       "    </tr>\n",
       "    <tr>\n",
       "      <th>5</th>\n",
       "      <td>Er nu zhai (1955)</td>\n",
       "      <td>Before he was known internationally as a mart...</td>\n",
       "    </tr>\n",
       "  </tbody>\n",
       "</table>\n",
       "</div>"
      ],
      "text/plain": [
       "                           Title  \\\n",
       "1          Edgar's Lunch (1998)    \n",
       "2      La guerra de papá (1977)    \n",
       "3   Off the Beaten Track (2010)    \n",
       "4        Meu Amigo Hindu (2015)    \n",
       "5             Er nu zhai (1955)    \n",
       "\n",
       "                                                Text  \n",
       "1   L.R. Brane loves his life - his car, his apar...  \n",
       "2   Spain, March 1964: Quico is a very naughty ch...  \n",
       "3   One year in the life of Albin and his family ...  \n",
       "4   His father has died, he hasn't spoken with hi...  \n",
       "5   Before he was known internationally as a mart...  "
      ]
     },
     "execution_count": 6,
     "metadata": {},
     "output_type": "execute_result"
    }
   ],
   "source": [
    "# Rename the column \"Description\" to \"Text\"\n",
    "test_data = test_data.rename(columns={'Description': 'Text'})\n",
    "test_data.head()"
   ]
  },
  {
   "cell_type": "markdown",
   "id": "1924e1a4",
   "metadata": {},
   "source": [
    "## There is No Null value present in Testing data"
   ]
  },
  {
   "cell_type": "code",
   "execution_count": 7,
   "id": "c0583af7",
   "metadata": {},
   "outputs": [],
   "source": [
    "# Load the training data\n",
    "train_path = r'C:\\Users\\RAM_ANURAG\\Downloads\\Movie_genere_Classification\\train_data.txt\\train_data.txt'\n",
    "\n",
    "train_data = pd.read_csv(train_path, sep=':::', names=['Title', 'Genre', 'Description'], engine='python')"
   ]
  },
  {
   "cell_type": "code",
   "execution_count": 8,
   "id": "958f6d0a",
   "metadata": {},
   "outputs": [
    {
     "data": {
      "text/html": [
       "<div>\n",
       "<style scoped>\n",
       "    .dataframe tbody tr th:only-of-type {\n",
       "        vertical-align: middle;\n",
       "    }\n",
       "\n",
       "    .dataframe tbody tr th {\n",
       "        vertical-align: top;\n",
       "    }\n",
       "\n",
       "    .dataframe thead th {\n",
       "        text-align: right;\n",
       "    }\n",
       "</style>\n",
       "<table border=\"1\" class=\"dataframe\">\n",
       "  <thead>\n",
       "    <tr style=\"text-align: right;\">\n",
       "      <th></th>\n",
       "      <th>Title</th>\n",
       "      <th>Genre</th>\n",
       "      <th>Description</th>\n",
       "    </tr>\n",
       "  </thead>\n",
       "  <tbody>\n",
       "    <tr>\n",
       "      <th>1</th>\n",
       "      <td>Oscar et la dame rose (2009)</td>\n",
       "      <td>drama</td>\n",
       "      <td>Listening in to a conversation between his do...</td>\n",
       "    </tr>\n",
       "    <tr>\n",
       "      <th>2</th>\n",
       "      <td>Cupid (1997)</td>\n",
       "      <td>thriller</td>\n",
       "      <td>A brother and sister with a past incestuous r...</td>\n",
       "    </tr>\n",
       "    <tr>\n",
       "      <th>3</th>\n",
       "      <td>Young, Wild and Wonderful (1980)</td>\n",
       "      <td>adult</td>\n",
       "      <td>As the bus empties the students for their fie...</td>\n",
       "    </tr>\n",
       "    <tr>\n",
       "      <th>4</th>\n",
       "      <td>The Secret Sin (1915)</td>\n",
       "      <td>drama</td>\n",
       "      <td>To help their unemployed father make ends mee...</td>\n",
       "    </tr>\n",
       "    <tr>\n",
       "      <th>5</th>\n",
       "      <td>The Unrecovered (2007)</td>\n",
       "      <td>drama</td>\n",
       "      <td>The film's title refers not only to the un-re...</td>\n",
       "    </tr>\n",
       "    <tr>\n",
       "      <th>...</th>\n",
       "      <td>...</td>\n",
       "      <td>...</td>\n",
       "      <td>...</td>\n",
       "    </tr>\n",
       "    <tr>\n",
       "      <th>54210</th>\n",
       "      <td>\"Bonino\" (1953)</td>\n",
       "      <td>comedy</td>\n",
       "      <td>This short-lived NBC live sitcom centered on ...</td>\n",
       "    </tr>\n",
       "    <tr>\n",
       "      <th>54211</th>\n",
       "      <td>Dead Girls Don't Cry (????)</td>\n",
       "      <td>horror</td>\n",
       "      <td>The NEXT Generation of EXPLOITATION. The sist...</td>\n",
       "    </tr>\n",
       "    <tr>\n",
       "      <th>54212</th>\n",
       "      <td>Ronald Goedemondt: Ze bestaan echt (2008)</td>\n",
       "      <td>documentary</td>\n",
       "      <td>Ze bestaan echt, is a stand-up comedy about g...</td>\n",
       "    </tr>\n",
       "    <tr>\n",
       "      <th>54213</th>\n",
       "      <td>Make Your Own Bed (1944)</td>\n",
       "      <td>comedy</td>\n",
       "      <td>Walter and Vivian live in the country and hav...</td>\n",
       "    </tr>\n",
       "    <tr>\n",
       "      <th>54214</th>\n",
       "      <td>Nature's Fury: Storm of the Century (2006)</td>\n",
       "      <td>history</td>\n",
       "      <td>On Labor Day Weekend, 1935, the most intense ...</td>\n",
       "    </tr>\n",
       "  </tbody>\n",
       "</table>\n",
       "<p>54214 rows × 3 columns</p>\n",
       "</div>"
      ],
      "text/plain": [
       "                                              Title          Genre  \\\n",
       "1                     Oscar et la dame rose (2009)          drama    \n",
       "2                                     Cupid (1997)       thriller    \n",
       "3                 Young, Wild and Wonderful (1980)          adult    \n",
       "4                            The Secret Sin (1915)          drama    \n",
       "5                           The Unrecovered (2007)          drama    \n",
       "...                                             ...            ...   \n",
       "54210                              \"Bonino\" (1953)         comedy    \n",
       "54211                  Dead Girls Don't Cry (????)         horror    \n",
       "54212    Ronald Goedemondt: Ze bestaan echt (2008)    documentary    \n",
       "54213                     Make Your Own Bed (1944)         comedy    \n",
       "54214   Nature's Fury: Storm of the Century (2006)        history    \n",
       "\n",
       "                                             Description  \n",
       "1       Listening in to a conversation between his do...  \n",
       "2       A brother and sister with a past incestuous r...  \n",
       "3       As the bus empties the students for their fie...  \n",
       "4       To help their unemployed father make ends mee...  \n",
       "5       The film's title refers not only to the un-re...  \n",
       "...                                                  ...  \n",
       "54210   This short-lived NBC live sitcom centered on ...  \n",
       "54211   The NEXT Generation of EXPLOITATION. The sist...  \n",
       "54212   Ze bestaan echt, is a stand-up comedy about g...  \n",
       "54213   Walter and Vivian live in the country and hav...  \n",
       "54214   On Labor Day Weekend, 1935, the most intense ...  \n",
       "\n",
       "[54214 rows x 3 columns]"
      ]
     },
     "execution_count": 8,
     "metadata": {},
     "output_type": "execute_result"
    }
   ],
   "source": [
    "train_data"
   ]
  },
  {
   "cell_type": "code",
   "execution_count": 9,
   "id": "665edc1e",
   "metadata": {},
   "outputs": [
    {
     "data": {
      "text/plain": [
       "(54214, 3)"
      ]
     },
     "execution_count": 9,
     "metadata": {},
     "output_type": "execute_result"
    }
   ],
   "source": [
    "train_data.shape"
   ]
  },
  {
   "cell_type": "code",
   "execution_count": 10,
   "id": "20ed987e",
   "metadata": {},
   "outputs": [
    {
     "data": {
      "text/plain": [
       "Title          0\n",
       "Genre          0\n",
       "Description    0\n",
       "dtype: int64"
      ]
     },
     "execution_count": 10,
     "metadata": {},
     "output_type": "execute_result"
    }
   ],
   "source": [
    "train_data.isnull().sum()"
   ]
  },
  {
   "cell_type": "code",
   "execution_count": 11,
   "id": "e990b1e2",
   "metadata": {},
   "outputs": [
    {
     "data": {
      "text/html": [
       "<div>\n",
       "<style scoped>\n",
       "    .dataframe tbody tr th:only-of-type {\n",
       "        vertical-align: middle;\n",
       "    }\n",
       "\n",
       "    .dataframe tbody tr th {\n",
       "        vertical-align: top;\n",
       "    }\n",
       "\n",
       "    .dataframe thead th {\n",
       "        text-align: right;\n",
       "    }\n",
       "</style>\n",
       "<table border=\"1\" class=\"dataframe\">\n",
       "  <thead>\n",
       "    <tr style=\"text-align: right;\">\n",
       "      <th></th>\n",
       "      <th>Title</th>\n",
       "      <th>Genre</th>\n",
       "      <th>Text</th>\n",
       "    </tr>\n",
       "  </thead>\n",
       "  <tbody>\n",
       "    <tr>\n",
       "      <th>1</th>\n",
       "      <td>Oscar et la dame rose (2009)</td>\n",
       "      <td>drama</td>\n",
       "      <td>Listening in to a conversation between his do...</td>\n",
       "    </tr>\n",
       "    <tr>\n",
       "      <th>2</th>\n",
       "      <td>Cupid (1997)</td>\n",
       "      <td>thriller</td>\n",
       "      <td>A brother and sister with a past incestuous r...</td>\n",
       "    </tr>\n",
       "    <tr>\n",
       "      <th>3</th>\n",
       "      <td>Young, Wild and Wonderful (1980)</td>\n",
       "      <td>adult</td>\n",
       "      <td>As the bus empties the students for their fie...</td>\n",
       "    </tr>\n",
       "    <tr>\n",
       "      <th>4</th>\n",
       "      <td>The Secret Sin (1915)</td>\n",
       "      <td>drama</td>\n",
       "      <td>To help their unemployed father make ends mee...</td>\n",
       "    </tr>\n",
       "    <tr>\n",
       "      <th>5</th>\n",
       "      <td>The Unrecovered (2007)</td>\n",
       "      <td>drama</td>\n",
       "      <td>The film's title refers not only to the un-re...</td>\n",
       "    </tr>\n",
       "  </tbody>\n",
       "</table>\n",
       "</div>"
      ],
      "text/plain": [
       "                                Title       Genre  \\\n",
       "1       Oscar et la dame rose (2009)       drama    \n",
       "2                       Cupid (1997)    thriller    \n",
       "3   Young, Wild and Wonderful (1980)       adult    \n",
       "4              The Secret Sin (1915)       drama    \n",
       "5             The Unrecovered (2007)       drama    \n",
       "\n",
       "                                                Text  \n",
       "1   Listening in to a conversation between his do...  \n",
       "2   A brother and sister with a past incestuous r...  \n",
       "3   As the bus empties the students for their fie...  \n",
       "4   To help their unemployed father make ends mee...  \n",
       "5   The film's title refers not only to the un-re...  "
      ]
     },
     "execution_count": 11,
     "metadata": {},
     "output_type": "execute_result"
    }
   ],
   "source": [
    "# Rename the column \"Description\" to \"Text\"\n",
    "train_data = train_data.rename(columns={'Description': 'Text'})\n",
    "train_data.head()"
   ]
  },
  {
   "cell_type": "markdown",
   "id": "ab132e65",
   "metadata": {},
   "source": [
    "## There is No Null value present in Training data"
   ]
  },
  {
   "cell_type": "code",
   "execution_count": 12,
   "id": "6d8208d3",
   "metadata": {},
   "outputs": [
    {
     "name": "stdout",
     "output_type": "stream",
     "text": [
      "<class 'pandas.core.frame.DataFrame'>\n",
      "Int64Index: 54214 entries, 1 to 54214\n",
      "Data columns (total 3 columns):\n",
      " #   Column  Non-Null Count  Dtype \n",
      "---  ------  --------------  ----- \n",
      " 0   Title   54214 non-null  object\n",
      " 1   Genre   54214 non-null  object\n",
      " 2   Text    54214 non-null  object\n",
      "dtypes: object(3)\n",
      "memory usage: 1.7+ MB\n"
     ]
    }
   ],
   "source": [
    "train_data.info()"
   ]
  },
  {
   "cell_type": "code",
   "execution_count": 13,
   "id": "f29ba12e",
   "metadata": {},
   "outputs": [
    {
     "name": "stdout",
     "output_type": "stream",
     "text": [
      " Unique value in Genre column : [' drama ' ' thriller ' ' adult ' ' documentary ' ' comedy ' ' crime '\n",
      " ' reality-tv ' ' horror ' ' sport ' ' animation ' ' action ' ' fantasy '\n",
      " ' short ' ' sci-fi ' ' music ' ' adventure ' ' talk-show ' ' western '\n",
      " ' family ' ' mystery ' ' history ' ' news ' ' biography ' ' romance '\n",
      " ' game-show ' ' musical ' ' war ']\n",
      " No.Unique value in Genre column : 27\n"
     ]
    }
   ],
   "source": [
    "print(\" Unique value in Genre column :\", train_data['Genre'].unique())\n",
    "print(\" No.Unique value in Genre column :\", train_data['Genre'].nunique())\n"
   ]
  },
  {
   "cell_type": "code",
   "execution_count": 14,
   "id": "be7e2282",
   "metadata": {},
   "outputs": [
    {
     "data": {
      "text/plain": [
       " drama           13613\n",
       " documentary     13096\n",
       " comedy           7447\n",
       " short            5073\n",
       " horror           2204\n",
       " thriller         1591\n",
       " action           1315\n",
       " western          1032\n",
       " reality-tv        884\n",
       " family            784\n",
       " adventure         775\n",
       " music             731\n",
       " romance           672\n",
       " sci-fi            647\n",
       " adult             590\n",
       " crime             505\n",
       " animation         498\n",
       " sport             432\n",
       " talk-show         391\n",
       " fantasy           323\n",
       " mystery           319\n",
       " musical           277\n",
       " biography         265\n",
       " history           243\n",
       " game-show         194\n",
       " news              181\n",
       " war               132\n",
       "Name: Genre, dtype: int64"
      ]
     },
     "execution_count": 14,
     "metadata": {},
     "output_type": "execute_result"
    }
   ],
   "source": [
    "train_data['Genre'].value_counts()"
   ]
  },
  {
   "cell_type": "code",
   "execution_count": 15,
   "id": "ac5b08d4",
   "metadata": {},
   "outputs": [
    {
     "data": {
      "image/png": "[encoded data removed]",
      "text/plain": [
       "<Figure size 2000x1500 with 1 Axes>"
      ]
     },
     "metadata": {},
     "output_type": "display_data"
    }
   ],
   "source": [
    "import seaborn as sns\n",
    "import matplotlib.pyplot as plt\n",
    "\n",
    "# Plotting the count of each genre\n",
    "plt.figure(figsize=(20, 15))\n",
    "sns.countplot(y='Genre', data=train_data, order=train_data['Genre'].value_counts().index)\n",
    "plt.title('Distribution of Genres')\n",
    "plt.xlabel('Count')\n",
    "plt.ylabel('Genre')\n",
    "plt.show()\n"
   ]
  },
  {
   "cell_type": "markdown",
   "id": "5ca4caed",
   "metadata": {},
   "source": [
    "###   The genres \"drama\" and \"documentary\" have the highest counts, indicating that they are the most common genres in the dataset."
   ]
  },
  {
   "cell_type": "markdown",
   "id": "e92e306d",
   "metadata": {},
   "source": [
    "# Text Preprocessing"
   ]
  },
  {
   "cell_type": "code",
   "execution_count": 16,
   "id": "290d467c",
   "metadata": {},
   "outputs": [],
   "source": [
    "# Initialize the Porter Stemmer and stopwords\n",
    "ps = PorterStemmer()\n",
    "stop_words = set(stopwords.words('english'))\n",
    "\n",
    "# Define the clean_text function\n",
    "def clean_text(text):\n",
    "    # Cleaning special characters, converting to lowercase, and tokenizing\n",
    "    words = re.sub('[^a-zA-Z]', ' ', text).lower().split()\n",
    "    # Removing stopwords and stemming\n",
    "    stemmed_words = [ps.stem(word) for word in words if word not in stop_words]\n",
    "    # Joining the words back into a sentence\n",
    "    cleaned_text = ' '.join(stemmed_words)\n",
    "    return cleaned_text"
   ]
  },
  {
   "cell_type": "code",
   "execution_count": 17,
   "id": "028985a0",
   "metadata": {},
   "outputs": [],
   "source": [
    "# Apply the clean_text function to the 'Text' column of both train_data and test_data\n",
    "train_data['Cleaned_Text'] = train_data['Text'].apply(clean_text)\n",
    "test_data['Cleaned_Text'] = test_data['Text'].apply(clean_text)"
   ]
  },
  {
   "cell_type": "code",
   "execution_count": 18,
   "id": "9c574f1b",
   "metadata": {},
   "outputs": [
    {
     "data": {
      "text/html": [
       "<div>\n",
       "<style scoped>\n",
       "    .dataframe tbody tr th:only-of-type {\n",
       "        vertical-align: middle;\n",
       "    }\n",
       "\n",
       "    .dataframe tbody tr th {\n",
       "        vertical-align: top;\n",
       "    }\n",
       "\n",
       "    .dataframe thead th {\n",
       "        text-align: right;\n",
       "    }\n",
       "</style>\n",
       "<table border=\"1\" class=\"dataframe\">\n",
       "  <thead>\n",
       "    <tr style=\"text-align: right;\">\n",
       "      <th></th>\n",
       "      <th>Title</th>\n",
       "      <th>Genre</th>\n",
       "      <th>Text</th>\n",
       "      <th>Cleaned_Text</th>\n",
       "    </tr>\n",
       "  </thead>\n",
       "  <tbody>\n",
       "    <tr>\n",
       "      <th>1</th>\n",
       "      <td>Oscar et la dame rose (2009)</td>\n",
       "      <td>drama</td>\n",
       "      <td>Listening in to a conversation between his do...</td>\n",
       "      <td>listen convers doctor parent year old oscar le...</td>\n",
       "    </tr>\n",
       "    <tr>\n",
       "      <th>2</th>\n",
       "      <td>Cupid (1997)</td>\n",
       "      <td>thriller</td>\n",
       "      <td>A brother and sister with a past incestuous r...</td>\n",
       "      <td>brother sister past incestu relationship curre...</td>\n",
       "    </tr>\n",
       "    <tr>\n",
       "      <th>3</th>\n",
       "      <td>Young, Wild and Wonderful (1980)</td>\n",
       "      <td>adult</td>\n",
       "      <td>As the bus empties the students for their fie...</td>\n",
       "      <td>bu empti student field trip museum natur histo...</td>\n",
       "    </tr>\n",
       "    <tr>\n",
       "      <th>4</th>\n",
       "      <td>The Secret Sin (1915)</td>\n",
       "      <td>drama</td>\n",
       "      <td>To help their unemployed father make ends mee...</td>\n",
       "      <td>help unemploy father make end meet edith twin ...</td>\n",
       "    </tr>\n",
       "    <tr>\n",
       "      <th>5</th>\n",
       "      <td>The Unrecovered (2007)</td>\n",
       "      <td>drama</td>\n",
       "      <td>The film's title refers not only to the un-re...</td>\n",
       "      <td>film titl refer un recov bodi ground zero also...</td>\n",
       "    </tr>\n",
       "    <tr>\n",
       "      <th>...</th>\n",
       "      <td>...</td>\n",
       "      <td>...</td>\n",
       "      <td>...</td>\n",
       "      <td>...</td>\n",
       "    </tr>\n",
       "    <tr>\n",
       "      <th>54210</th>\n",
       "      <td>\"Bonino\" (1953)</td>\n",
       "      <td>comedy</td>\n",
       "      <td>This short-lived NBC live sitcom centered on ...</td>\n",
       "      <td>short live nbc live sitcom center bonino world...</td>\n",
       "    </tr>\n",
       "    <tr>\n",
       "      <th>54211</th>\n",
       "      <td>Dead Girls Don't Cry (????)</td>\n",
       "      <td>horror</td>\n",
       "      <td>The NEXT Generation of EXPLOITATION. The sist...</td>\n",
       "      <td>next gener exploit sister kapa bay soror hous ...</td>\n",
       "    </tr>\n",
       "    <tr>\n",
       "      <th>54212</th>\n",
       "      <td>Ronald Goedemondt: Ze bestaan echt (2008)</td>\n",
       "      <td>documentary</td>\n",
       "      <td>Ze bestaan echt, is a stand-up comedy about g...</td>\n",
       "      <td>ze bestaan echt stand comedi grow face fear fr...</td>\n",
       "    </tr>\n",
       "    <tr>\n",
       "      <th>54213</th>\n",
       "      <td>Make Your Own Bed (1944)</td>\n",
       "      <td>comedy</td>\n",
       "      <td>Walter and Vivian live in the country and hav...</td>\n",
       "      <td>walter vivian live countri difficult time keep...</td>\n",
       "    </tr>\n",
       "    <tr>\n",
       "      <th>54214</th>\n",
       "      <td>Nature's Fury: Storm of the Century (2006)</td>\n",
       "      <td>history</td>\n",
       "      <td>On Labor Day Weekend, 1935, the most intense ...</td>\n",
       "      <td>labor day weekend intens hurrican ever make la...</td>\n",
       "    </tr>\n",
       "  </tbody>\n",
       "</table>\n",
       "<p>54214 rows × 4 columns</p>\n",
       "</div>"
      ],
      "text/plain": [
       "                                              Title          Genre  \\\n",
       "1                     Oscar et la dame rose (2009)          drama    \n",
       "2                                     Cupid (1997)       thriller    \n",
       "3                 Young, Wild and Wonderful (1980)          adult    \n",
       "4                            The Secret Sin (1915)          drama    \n",
       "5                           The Unrecovered (2007)          drama    \n",
       "...                                             ...            ...   \n",
       "54210                              \"Bonino\" (1953)         comedy    \n",
       "54211                  Dead Girls Don't Cry (????)         horror    \n",
       "54212    Ronald Goedemondt: Ze bestaan echt (2008)    documentary    \n",
       "54213                     Make Your Own Bed (1944)         comedy    \n",
       "54214   Nature's Fury: Storm of the Century (2006)        history    \n",
       "\n",
       "                                                    Text  \\\n",
       "1       Listening in to a conversation between his do...   \n",
       "2       A brother and sister with a past incestuous r...   \n",
       "3       As the bus empties the students for their fie...   \n",
       "4       To help their unemployed father make ends mee...   \n",
       "5       The film's title refers not only to the un-re...   \n",
       "...                                                  ...   \n",
       "54210   This short-lived NBC live sitcom centered on ...   \n",
       "54211   The NEXT Generation of EXPLOITATION. The sist...   \n",
       "54212   Ze bestaan echt, is a stand-up comedy about g...   \n",
       "54213   Walter and Vivian live in the country and hav...   \n",
       "54214   On Labor Day Weekend, 1935, the most intense ...   \n",
       "\n",
       "                                            Cleaned_Text  \n",
       "1      listen convers doctor parent year old oscar le...  \n",
       "2      brother sister past incestu relationship curre...  \n",
       "3      bu empti student field trip museum natur histo...  \n",
       "4      help unemploy father make end meet edith twin ...  \n",
       "5      film titl refer un recov bodi ground zero also...  \n",
       "...                                                  ...  \n",
       "54210  short live nbc live sitcom center bonino world...  \n",
       "54211  next gener exploit sister kapa bay soror hous ...  \n",
       "54212  ze bestaan echt stand comedi grow face fear fr...  \n",
       "54213  walter vivian live countri difficult time keep...  \n",
       "54214  labor day weekend intens hurrican ever make la...  \n",
       "\n",
       "[54214 rows x 4 columns]"
      ]
     },
     "execution_count": 18,
     "metadata": {},
     "output_type": "execute_result"
    }
   ],
   "source": [
    "train_data"
   ]
  },
  {
   "cell_type": "code",
   "execution_count": 19,
   "id": "d6268a60",
   "metadata": {},
   "outputs": [
    {
     "data": {
      "text/html": [
       "<div>\n",
       "<style scoped>\n",
       "    .dataframe tbody tr th:only-of-type {\n",
       "        vertical-align: middle;\n",
       "    }\n",
       "\n",
       "    .dataframe tbody tr th {\n",
       "        vertical-align: top;\n",
       "    }\n",
       "\n",
       "    .dataframe thead th {\n",
       "        text-align: right;\n",
       "    }\n",
       "</style>\n",
       "<table border=\"1\" class=\"dataframe\">\n",
       "  <thead>\n",
       "    <tr style=\"text-align: right;\">\n",
       "      <th></th>\n",
       "      <th>Title</th>\n",
       "      <th>Text</th>\n",
       "      <th>Cleaned_Text</th>\n",
       "    </tr>\n",
       "  </thead>\n",
       "  <tbody>\n",
       "    <tr>\n",
       "      <th>1</th>\n",
       "      <td>Edgar's Lunch (1998)</td>\n",
       "      <td>L.R. Brane loves his life - his car, his apar...</td>\n",
       "      <td>l r brane love life car apart job especi girlf...</td>\n",
       "    </tr>\n",
       "    <tr>\n",
       "      <th>2</th>\n",
       "      <td>La guerra de papá (1977)</td>\n",
       "      <td>Spain, March 1964: Quico is a very naughty ch...</td>\n",
       "      <td>spain march quico naughti child three belong w...</td>\n",
       "    </tr>\n",
       "    <tr>\n",
       "      <th>3</th>\n",
       "      <td>Off the Beaten Track (2010)</td>\n",
       "      <td>One year in the life of Albin and his family ...</td>\n",
       "      <td>one year life albin famili shepherd north tran...</td>\n",
       "    </tr>\n",
       "    <tr>\n",
       "      <th>4</th>\n",
       "      <td>Meu Amigo Hindu (2015)</td>\n",
       "      <td>His father has died, he hasn't spoken with hi...</td>\n",
       "      <td>father die spoken brother year seriou cancer d...</td>\n",
       "    </tr>\n",
       "    <tr>\n",
       "      <th>5</th>\n",
       "      <td>Er nu zhai (1955)</td>\n",
       "      <td>Before he was known internationally as a mart...</td>\n",
       "      <td>known intern martial art superstar bruce lee a...</td>\n",
       "    </tr>\n",
       "    <tr>\n",
       "      <th>...</th>\n",
       "      <td>...</td>\n",
       "      <td>...</td>\n",
       "      <td>...</td>\n",
       "    </tr>\n",
       "    <tr>\n",
       "      <th>54196</th>\n",
       "      <td>\"Tales of Light &amp; Dark\" (2013)</td>\n",
       "      <td>Covering multiple genres, Tales of Light &amp; Da...</td>\n",
       "      <td>cover multipl genr tale light dark antholog we...</td>\n",
       "    </tr>\n",
       "    <tr>\n",
       "      <th>54197</th>\n",
       "      <td>Der letzte Mohikaner (1965)</td>\n",
       "      <td>As Alice and Cora Munro attempt to find their...</td>\n",
       "      <td>alic cora munro attempt find father british of...</td>\n",
       "    </tr>\n",
       "    <tr>\n",
       "      <th>54198</th>\n",
       "      <td>Oliver Twink (2007)</td>\n",
       "      <td>A movie 169 years in the making. Oliver Twist...</td>\n",
       "      <td>movi year make oliv twist art dodger fagin lov...</td>\n",
       "    </tr>\n",
       "    <tr>\n",
       "      <th>54199</th>\n",
       "      <td>Slipstream (1973)</td>\n",
       "      <td>Popular, but mysterious rock D.J Mike Mallard...</td>\n",
       "      <td>popular mysteri rock j mike mallard askew broa...</td>\n",
       "    </tr>\n",
       "    <tr>\n",
       "      <th>54200</th>\n",
       "      <td>Curitiba Zero Grau (2010)</td>\n",
       "      <td>Curitiba is a city in movement, with rhythms ...</td>\n",
       "      <td>curitiba citi movement rhythm differ pulsat gr...</td>\n",
       "    </tr>\n",
       "  </tbody>\n",
       "</table>\n",
       "<p>54200 rows × 3 columns</p>\n",
       "</div>"
      ],
      "text/plain": [
       "                                  Title  \\\n",
       "1                 Edgar's Lunch (1998)    \n",
       "2             La guerra de papá (1977)    \n",
       "3          Off the Beaten Track (2010)    \n",
       "4               Meu Amigo Hindu (2015)    \n",
       "5                    Er nu zhai (1955)    \n",
       "...                                 ...   \n",
       "54196   \"Tales of Light & Dark\" (2013)    \n",
       "54197      Der letzte Mohikaner (1965)    \n",
       "54198              Oliver Twink (2007)    \n",
       "54199                Slipstream (1973)    \n",
       "54200        Curitiba Zero Grau (2010)    \n",
       "\n",
       "                                                    Text  \\\n",
       "1       L.R. Brane loves his life - his car, his apar...   \n",
       "2       Spain, March 1964: Quico is a very naughty ch...   \n",
       "3       One year in the life of Albin and his family ...   \n",
       "4       His father has died, he hasn't spoken with hi...   \n",
       "5       Before he was known internationally as a mart...   \n",
       "...                                                  ...   \n",
       "54196   Covering multiple genres, Tales of Light & Da...   \n",
       "54197   As Alice and Cora Munro attempt to find their...   \n",
       "54198   A movie 169 years in the making. Oliver Twist...   \n",
       "54199   Popular, but mysterious rock D.J Mike Mallard...   \n",
       "54200   Curitiba is a city in movement, with rhythms ...   \n",
       "\n",
       "                                            Cleaned_Text  \n",
       "1      l r brane love life car apart job especi girlf...  \n",
       "2      spain march quico naughti child three belong w...  \n",
       "3      one year life albin famili shepherd north tran...  \n",
       "4      father die spoken brother year seriou cancer d...  \n",
       "5      known intern martial art superstar bruce lee a...  \n",
       "...                                                  ...  \n",
       "54196  cover multipl genr tale light dark antholog we...  \n",
       "54197  alic cora munro attempt find father british of...  \n",
       "54198  movi year make oliv twist art dodger fagin lov...  \n",
       "54199  popular mysteri rock j mike mallard askew broa...  \n",
       "54200  curitiba citi movement rhythm differ pulsat gr...  \n",
       "\n",
       "[54200 rows x 3 columns]"
      ]
     },
     "execution_count": 19,
     "metadata": {},
     "output_type": "execute_result"
    }
   ],
   "source": [
    "test_data"
   ]
  },
  {
   "cell_type": "code",
   "execution_count": 20,
   "id": "e4ba38e2",
   "metadata": {},
   "outputs": [
    {
     "data": {
      "text/plain": [
       "\" The NEXT Generation of EXPLOITATION. The sisters of Kapa - Bay Sorority House are mysteriously vanishing. The girls have been abducted and locked up in a horse stable, forced into sexual slavery and depravity, which leads to a fight to their final breath. Electric ear devices are planted to prevent escape with electric shock therapy. The diabolical family is an incest ridden tribe of an obese woman that never stops eating and a midget with a voice box for parents. Their two sons are repulsive, drooling inbreds with speech problems and a scabbed head. The daughter is a beautiful, young woman that is covered in scars, mentally and physically. Dead Girls Don't Cry is an Exploitation/ Revenge film that combines much more into one and pushes the boundaries of today's Horror.\""
      ]
     },
     "execution_count": 20,
     "metadata": {},
     "output_type": "execute_result"
    }
   ],
   "source": [
    "train_data['Text'][54211] # before text preprocessing"
   ]
  },
  {
   "cell_type": "code",
   "execution_count": 21,
   "id": "fc27325d",
   "metadata": {},
   "outputs": [
    {
     "data": {
      "text/plain": [
       "'next gener exploit sister kapa bay soror hous mysteri vanish girl abduct lock hors stabl forc sexual slaveri deprav lead fight final breath electr ear devic plant prevent escap electr shock therapi diabol famili incest ridden tribe obes woman never stop eat midget voic box parent two son repuls drool inbr speech problem scab head daughter beauti young woman cover scar mental physic dead girl cri exploit reveng film combin much one push boundari today horror'"
      ]
     },
     "execution_count": 21,
     "metadata": {},
     "output_type": "execute_result"
    }
   ],
   "source": [
    "train_data['Cleaned_Text'][54211] # After preprocessing"
   ]
  },
  {
   "cell_type": "markdown",
   "id": "c4166cf1",
   "metadata": {},
   "source": [
    "# Label Encoding"
   ]
  },
  {
   "cell_type": "code",
   "execution_count": 22,
   "id": "90dfbf28",
   "metadata": {},
   "outputs": [],
   "source": [
    "#label Encoding\n",
    "from sklearn.preprocessing import LabelEncoder\n",
    "label_encoder = LabelEncoder()\n",
    "\n",
    "train_data['Genre_Encoded'] = label_encoder.fit_transform(train_data['Genre'])"
   ]
  },
  {
   "cell_type": "code",
   "execution_count": 23,
   "id": "7b171d99",
   "metadata": {},
   "outputs": [
    {
     "data": {
      "text/html": [
       "<div>\n",
       "<style scoped>\n",
       "    .dataframe tbody tr th:only-of-type {\n",
       "        vertical-align: middle;\n",
       "    }\n",
       "\n",
       "    .dataframe tbody tr th {\n",
       "        vertical-align: top;\n",
       "    }\n",
       "\n",
       "    .dataframe thead th {\n",
       "        text-align: right;\n",
       "    }\n",
       "</style>\n",
       "<table border=\"1\" class=\"dataframe\">\n",
       "  <thead>\n",
       "    <tr style=\"text-align: right;\">\n",
       "      <th></th>\n",
       "      <th>Title</th>\n",
       "      <th>Genre</th>\n",
       "      <th>Text</th>\n",
       "      <th>Cleaned_Text</th>\n",
       "      <th>Genre_Encoded</th>\n",
       "    </tr>\n",
       "  </thead>\n",
       "  <tbody>\n",
       "    <tr>\n",
       "      <th>1</th>\n",
       "      <td>Oscar et la dame rose (2009)</td>\n",
       "      <td>drama</td>\n",
       "      <td>Listening in to a conversation between his do...</td>\n",
       "      <td>listen convers doctor parent year old oscar le...</td>\n",
       "      <td>8</td>\n",
       "    </tr>\n",
       "    <tr>\n",
       "      <th>2</th>\n",
       "      <td>Cupid (1997)</td>\n",
       "      <td>thriller</td>\n",
       "      <td>A brother and sister with a past incestuous r...</td>\n",
       "      <td>brother sister past incestu relationship curre...</td>\n",
       "      <td>24</td>\n",
       "    </tr>\n",
       "    <tr>\n",
       "      <th>3</th>\n",
       "      <td>Young, Wild and Wonderful (1980)</td>\n",
       "      <td>adult</td>\n",
       "      <td>As the bus empties the students for their fie...</td>\n",
       "      <td>bu empti student field trip museum natur histo...</td>\n",
       "      <td>1</td>\n",
       "    </tr>\n",
       "    <tr>\n",
       "      <th>4</th>\n",
       "      <td>The Secret Sin (1915)</td>\n",
       "      <td>drama</td>\n",
       "      <td>To help their unemployed father make ends mee...</td>\n",
       "      <td>help unemploy father make end meet edith twin ...</td>\n",
       "      <td>8</td>\n",
       "    </tr>\n",
       "    <tr>\n",
       "      <th>5</th>\n",
       "      <td>The Unrecovered (2007)</td>\n",
       "      <td>drama</td>\n",
       "      <td>The film's title refers not only to the un-re...</td>\n",
       "      <td>film titl refer un recov bodi ground zero also...</td>\n",
       "      <td>8</td>\n",
       "    </tr>\n",
       "  </tbody>\n",
       "</table>\n",
       "</div>"
      ],
      "text/plain": [
       "                                Title       Genre  \\\n",
       "1       Oscar et la dame rose (2009)       drama    \n",
       "2                       Cupid (1997)    thriller    \n",
       "3   Young, Wild and Wonderful (1980)       adult    \n",
       "4              The Secret Sin (1915)       drama    \n",
       "5             The Unrecovered (2007)       drama    \n",
       "\n",
       "                                                Text  \\\n",
       "1   Listening in to a conversation between his do...   \n",
       "2   A brother and sister with a past incestuous r...   \n",
       "3   As the bus empties the students for their fie...   \n",
       "4   To help their unemployed father make ends mee...   \n",
       "5   The film's title refers not only to the un-re...   \n",
       "\n",
       "                                        Cleaned_Text  Genre_Encoded  \n",
       "1  listen convers doctor parent year old oscar le...              8  \n",
       "2  brother sister past incestu relationship curre...             24  \n",
       "3  bu empti student field trip museum natur histo...              1  \n",
       "4  help unemploy father make end meet edith twin ...              8  \n",
       "5  film titl refer un recov bodi ground zero also...              8  "
      ]
     },
     "execution_count": 23,
     "metadata": {},
     "output_type": "execute_result"
    }
   ],
   "source": [
    "train_data.head()"
   ]
  },
  {
   "cell_type": "code",
   "execution_count": 24,
   "id": "c27503e5",
   "metadata": {},
   "outputs": [
    {
     "name": "stdout",
     "output_type": "stream",
     "text": [
      "(54214, 5)\n",
      "(54200, 3)\n"
     ]
    }
   ],
   "source": [
    "print(train_data.shape)\n",
    "\n",
    "print(test_data.shape)"
   ]
  },
  {
   "cell_type": "markdown",
   "id": "cb5b7587",
   "metadata": {},
   "source": [
    "# TF-IDF"
   ]
  },
  {
   "cell_type": "code",
   "execution_count": 25,
   "id": "863efde3",
   "metadata": {},
   "outputs": [],
   "source": [
    "# Initialize the TfidfVectorizer\n",
    "tfidf_vectorizer = TfidfVectorizer(max_features=10000, stop_words='english')\n",
    "\n",
    "# Fit and transform the training data\n",
    "train_tfidf = tfidf_vectorizer.fit_transform(train_data['Cleaned_Text'])\n",
    "\n",
    "# Transform the test data using the same vectorizer\n",
    "test_tfidf = tfidf_vectorizer.transform(test_data['Cleaned_Text'])\n"
   ]
  },
  {
   "cell_type": "code",
   "execution_count": 26,
   "id": "9105992a",
   "metadata": {},
   "outputs": [],
   "source": [
    "#train_tfidf= train_tfidf.toarray()\n",
    "#train_tfidf"
   ]
  },
  {
   "cell_type": "code",
   "execution_count": 27,
   "id": "a5edf593",
   "metadata": {},
   "outputs": [],
   "source": [
    "# Split the data into training and testing sets\n",
    "X_train, X_val, y_train, y_val = train_test_split(train_tfidf, train_data['Genre_Encoded'], test_size=0.2, random_state=42)"
   ]
  },
  {
   "cell_type": "code",
   "execution_count": 28,
   "id": "55fc6512",
   "metadata": {},
   "outputs": [
    {
     "data": {
      "text/plain": [
       "1         8\n",
       "2        24\n",
       "3         1\n",
       "4         8\n",
       "5         8\n",
       "         ..\n",
       "54210     5\n",
       "54211    13\n",
       "54212     7\n",
       "54213     5\n",
       "54214    12\n",
       "Name: Genre_Encoded, Length: 54214, dtype: int32"
      ]
     },
     "execution_count": 28,
     "metadata": {},
     "output_type": "execute_result"
    }
   ],
   "source": [
    "train_data['Genre_Encoded']"
   ]
  },
  {
   "cell_type": "code",
   "execution_count": 29,
   "id": "b78ea878",
   "metadata": {},
   "outputs": [],
   "source": [
    "from sklearn.preprocessing import StandardScaler\n",
    "\n",
    "# Initialize StandardScaler with with_mean=False\n",
    "scaler = StandardScaler(with_mean=False)\n",
    "\n",
    "# Transform the training set\n",
    "X_train = scaler.fit_transform(X_train)\n",
    "\n",
    "# Transform the validation set\n",
    "X_val = scaler.transform(X_val)\n"
   ]
  },
  {
   "cell_type": "markdown",
   "id": "d666ec8a",
   "metadata": {},
   "source": [
    "# Multinomial Naive Bayes:"
   ]
  },
  {
   "cell_type": "code",
   "execution_count": 30,
   "id": "4dd71b54",
   "metadata": {},
   "outputs": [
    {
     "name": "stdout",
     "output_type": "stream",
     "text": [
      "Multinomial Naive Bayes:\n",
      "Training Accuracy: 0.7082151668165364\n",
      "validation Accuracy: 0.4444341971779028\n"
     ]
    }
   ],
   "source": [
    "from sklearn.naive_bayes import MultinomialNB\n",
    "from sklearn.metrics import accuracy_score\n",
    "\n",
    "# Multinomial Naive Bayes\n",
    "multinomial_nb_model = MultinomialNB()\n",
    "multinomial_nb_model.fit(X_train, y_train)\n",
    "multinomial_nb_train_pred = multinomial_nb_model.predict(X_train)\n",
    "multinomial_nb_val_pred = multinomial_nb_model.predict(X_val)\n",
    "multinomial_nb_train_accuracy = accuracy_score(y_train, multinomial_nb_train_pred)\n",
    "multinomial_nb_val_accuracy = accuracy_score(y_val, multinomial_nb_val_pred)\n",
    "\n",
    "\n",
    "# Print the accuracies\n",
    "print(\"Multinomial Naive Bayes:\")\n",
    "print(\"Training Accuracy:\", multinomial_nb_train_accuracy)\n",
    "print(\"validation Accuracy:\", multinomial_nb_val_accuracy)"
   ]
  },
  {
   "cell_type": "code",
   "execution_count": 31,
   "id": "27a267f0",
   "metadata": {},
   "outputs": [
    {
     "name": "stdout",
     "output_type": "stream",
     "text": [
      "Multinomial Naive Bayes:\n",
      "              precision    recall  f1-score   support\n",
      "\n",
      "           0       0.29      0.35      0.32       263\n",
      "           1       0.40      0.50      0.44       112\n",
      "           2       0.16      0.18      0.17       139\n",
      "           3       0.15      0.17      0.16       104\n",
      "           4       0.02      0.03      0.03        61\n",
      "           5       0.45      0.46      0.46      1443\n",
      "           6       0.14      0.16      0.15       107\n",
      "           7       0.69      0.60      0.64      2659\n",
      "           8       0.56      0.44      0.49      2697\n",
      "           9       0.17      0.22      0.19       150\n",
      "          10       0.15      0.16      0.15        74\n",
      "          11       0.59      0.60      0.59        40\n",
      "          12       0.04      0.09      0.06        45\n",
      "          13       0.48      0.52      0.50       431\n",
      "          14       0.35      0.54      0.42       144\n",
      "          15       0.06      0.08      0.07        50\n",
      "          16       0.06      0.09      0.07        56\n",
      "          17       0.08      0.12      0.09        34\n",
      "          18       0.24      0.33      0.28       192\n",
      "          19       0.12      0.18      0.14       151\n",
      "          20       0.23      0.28      0.25       143\n",
      "          21       0.32      0.31      0.31      1045\n",
      "          22       0.36      0.57      0.44        93\n",
      "          23       0.25      0.27      0.26        81\n",
      "          24       0.16      0.22      0.18       309\n",
      "          25       0.11      0.45      0.17        20\n",
      "          26       0.70      0.84      0.77       200\n",
      "\n",
      "    accuracy                           0.44     10843\n",
      "   macro avg       0.27      0.32      0.29     10843\n",
      "weighted avg       0.48      0.44      0.46     10843\n",
      "\n",
      "[[  93    1    5    1    1   13    5   13   36    0    5    0    1    8\n",
      "     0    0    1    0    4    8   17    9   10    0   23    8    1]\n",
      " [   1   56   10    0    0   13    1    1    8    1    0    0    0    3\n",
      "     1    1    1    0    3    2    0    5    0    0    3    0    2]\n",
      " [   7   11   25    9    1   10    1   18   11    4    2    0    3    6\n",
      "     0    1    1    1    1    1    6    8    1    0    4    3    4]\n",
      " [   4    1    1   18    1   12    0    9   11   10    5    0    1    2\n",
      "     0    0    2    0    3    2    9    8    2    0    2    1    0]\n",
      " [   0    1    1    0    2    3    0   21   15    0    0    0    3    0\n",
      "     1    0    0    1    1    0    1    8    1    0    1    0    1]\n",
      " [  22   23   16   19    8  662    9   54  246   43    8    3    8   34\n",
      "    17   10    6    3   38   30   14   98   10   11   34    7   10]\n",
      " [  11    1    2    0    0   12   17    0   23    4    0    0    1    2\n",
      "     1    0    3    0    1    0    0    8    0    0   18    0    3]\n",
      " [  26   12   29   10   48   82   12 1594  193   23    5    3   39   16\n",
      "    79   12    8   20   75   10   27  210   49   27   22   21    7]\n",
      " [  76   16   27    6   18  326   36  222 1189   40   18    1   23   67\n",
      "     8   21   23    3   11  111   17  226    7    7  140   22   36]\n",
      " [   3    0    2   15    0   28    0   14   14   33    1    1    0    5\n",
      "     2    0    0    2    5    3    0   15    0    2    4    1    0]\n",
      " [   4    1    5    3    0    5    0    5   14    2   12    0    0    7\n",
      "     0    0    1    0    0    2    5    6    0    0    1    1    0]\n",
      " [   1    0    2    0    0    3    0    1    0    0    0   24    0    0\n",
      "     0    1    1    0    3    0    0    1    3    0    0    0    0]\n",
      " [   3    0    0    0    0    1    0   15    8    0    2    0    4    1\n",
      "     0    0    0    0    1    0    0    4    0    1    1    4    0]\n",
      " [  10    3    3    5    0   27    3   10   36    3    3    0    0  222\n",
      "     2    0   11    0    3    5   16   23    0    1   44    0    1]\n",
      " [   0    1    1    1    1   11    0   17    5    1    1    0    0    1\n",
      "    78    8    0    3    5    0    0    5    1    4    0    0    0]\n",
      " [   1    0    0    0    0   12    1    3   12    1    1    0    0    0\n",
      "     6    4    1    0    1    4    0    3    0    0    0    0    0]\n",
      " [   1    0    0    0    0   14    2    3    8    0    0    0    1    5\n",
      "     0    0    5    0    0    2    1    5    0    0    8    0    1]\n",
      " [   0    0    0    1    0    0    1   15    1    1    0    0    0    1\n",
      "     1    0    0    4    3    1    0    1    0    3    1    0    0]\n",
      " [   1    0    4    5    2   36    1   35    8    6    0    2    1    0\n",
      "     4    0    0    1   64    0    2    8    6    4    2    0    0]\n",
      " [   6    2    1    2    1   23    0    4   46    6    1    0    3    3\n",
      "     1    2    3    0    3   27    0   12    0    0    4    1    0]\n",
      " [  13    0    3    3    1    2    1   17    8    0    3    0    0   13\n",
      "     0    1    0    0    5    3   40   17    0    1    9    3    0]\n",
      " [  13    6    9   16   11  132    8  188  148   13    8    6    2   28\n",
      "    11    7   10    7   18   13   13  327    6    4   36    2    3]\n",
      " [   1    1    1    0    0    3    0   15    1    0    0    0    0    0\n",
      "     5    0    0    0    8    0    0    4   53    1    0    0    0]\n",
      " [   0    0    0    0    1    1    2   15    1    1    1    1    0    1\n",
      "     6    1    0    7   13    2    1    5    0   22    0    0    0]\n",
      " [  18    3    8    3    1   28   17    7   75    1    4    0    0   38\n",
      "     1    0    7    0    3    4    4   18    0    0   67    0    2]\n",
      " [   2    0    0    0    0    0    0    4    2    0    0    0    0    0\n",
      "     0    0    0    0    0    0    1    2    0    0    0    9    0]\n",
      " [   5    1    4    0    0    4    1    4    4    0    1    0    0    1\n",
      "     1    0    1    0    0    1    0    2    0    0    1    1  168]]\n"
     ]
    }
   ],
   "source": [
    "# Print classification report and confusion matrix\n",
    "print(\"Multinomial Naive Bayes:\")\n",
    "print(classification_report(y_val, multinomial_nb_val_pred))\n",
    "print(confusion_matrix(y_val, multinomial_nb_val_pred))\n"
   ]
  },
  {
   "cell_type": "markdown",
   "id": "00a00072",
   "metadata": {},
   "source": [
    "# Gaussian Naive Bayes:"
   ]
  },
  {
   "cell_type": "code",
   "execution_count": 32,
   "id": "3911d7b0",
   "metadata": {},
   "outputs": [
    {
     "name": "stdout",
     "output_type": "stream",
     "text": [
      "\n",
      "Gaussian Naive Bayes:\n",
      "Training Accuracy: 0.4921721887897443\n",
      "validation Accuracy: 0.21672968735589782\n"
     ]
    }
   ],
   "source": [
    "from sklearn.naive_bayes import GaussianNB\n",
    "\n",
    "# Gaussian Naive Bayes\n",
    "gaussian_nb_model = GaussianNB()\n",
    "gaussian_nb_model.fit(X_train.toarray(), y_train)  # Convert to array for GaussianNB\n",
    "gaussian_nb_train_pred = gaussian_nb_model.predict(X_train.toarray())\n",
    "gaussian_nb_val_pred = gaussian_nb_model.predict(X_val.toarray())\n",
    "gaussian_nb_train_accuracy = accuracy_score(y_train, gaussian_nb_train_pred)\n",
    "gaussian_nb_val_accuracy = accuracy_score(y_val, gaussian_nb_val_pred)\n",
    "\n",
    "print(\"\\nGaussian Naive Bayes:\")\n",
    "print(\"Training Accuracy:\", gaussian_nb_train_accuracy)\n",
    "print(\"validation Accuracy:\", gaussian_nb_val_accuracy)"
   ]
  },
  {
   "cell_type": "code",
   "execution_count": 37,
   "id": "dddae17c",
   "metadata": {},
   "outputs": [
    {
     "name": "stdout",
     "output_type": "stream",
     "text": [
      "Gaussian Naive Bayes:\n",
      "              precision    recall  f1-score   support\n",
      "\n",
      "           0       0.08      0.13      0.10       263\n",
      "           1       0.18      0.16      0.17       112\n",
      "           2       0.04      0.05      0.04       139\n",
      "           3       0.02      0.01      0.01       104\n",
      "           4       0.03      0.02      0.02        61\n",
      "           5       0.24      0.28      0.26      1443\n",
      "           6       0.04      0.04      0.04       107\n",
      "           7       0.52      0.30      0.38      2659\n",
      "           8       0.38      0.14      0.21      2697\n",
      "           9       0.08      0.12      0.10       150\n",
      "          10       0.08      0.05      0.06        74\n",
      "          11       0.75      0.07      0.14        40\n",
      "          12       0.00      0.00      0.00        45\n",
      "          13       0.13      0.21      0.16       431\n",
      "          14       0.15      0.10      0.12       144\n",
      "          15       0.00      0.00      0.00        50\n",
      "          16       0.04      0.05      0.05        56\n",
      "          17       0.00      0.00      0.00        34\n",
      "          18       0.10      0.12      0.11       192\n",
      "          19       0.05      0.07      0.06       151\n",
      "          20       0.06      0.05      0.05       143\n",
      "          21       0.13      0.38      0.19      1045\n",
      "          22       0.28      0.08      0.12        93\n",
      "          23       0.15      0.09      0.11        81\n",
      "          24       0.05      0.12      0.08       309\n",
      "          25       0.00      0.00      0.00        20\n",
      "          26       0.51      0.35      0.42       200\n",
      "\n",
      "    accuracy                           0.22     10843\n",
      "   macro avg       0.15      0.11      0.11     10843\n",
      "weighted avg       0.30      0.22      0.23     10843\n",
      "\n"
     ]
    }
   ],
   "source": [
    "# Print classification report \n",
    "print(\"Gaussian Naive Bayes:\")\n",
    "print(classification_report(y_val, gaussian_nb_val_pred))\n"
   ]
  },
  {
   "cell_type": "markdown",
   "id": "b161d27d",
   "metadata": {},
   "source": [
    "# Bernoulli Naive Bayes:\n"
   ]
  },
  {
   "cell_type": "code",
   "execution_count": 40,
   "id": "0b2b4bd5",
   "metadata": {},
   "outputs": [
    {
     "name": "stdout",
     "output_type": "stream",
     "text": [
      "\n",
      "Bernoulli Naive Bayes:\n",
      "Training Accuracy: 0.6252103940421019\n",
      "validation Accuracy: 0.536567370653878\n"
     ]
    }
   ],
   "source": [
    "from sklearn.naive_bayes import BernoulliNB\n",
    "\n",
    "# Bernoulli Naive Bayes\n",
    "bernoulli_nb_model = BernoulliNB()\n",
    "bernoulli_nb_model.fit(X_train, y_train)\n",
    "bernoulli_nb_train_pred = bernoulli_nb_model.predict(X_train)\n",
    "bernoulli_nb_val_pred = bernoulli_nb_model.predict(X_val)\n",
    "bernoulli_nb_train_accuracy = accuracy_score(y_train, bernoulli_nb_train_pred)\n",
    "bernoulli_nb_val_accuracy = accuracy_score(y_val, bernoulli_nb_val_pred)\n",
    "\n",
    "print(\"\\nBernoulli Naive Bayes:\")\n",
    "print(\"Training Accuracy:\", bernoulli_nb_train_accuracy)\n",
    "print(\"validation Accuracy:\", bernoulli_nb_val_accuracy)"
   ]
  },
  {
   "cell_type": "code",
   "execution_count": 41,
   "id": "2f1c1d4e",
   "metadata": {},
   "outputs": [
    {
     "name": "stdout",
     "output_type": "stream",
     "text": [
      "Bernoulli Naive Bayes:\n",
      "              precision    recall  f1-score   support\n",
      "\n",
      "           0       0.37      0.43      0.40       263\n",
      "           1       0.68      0.37      0.48       112\n",
      "           2       0.34      0.21      0.26       139\n",
      "           3       0.39      0.07      0.11       104\n",
      "           4       0.00      0.00      0.00        61\n",
      "           5       0.47      0.62      0.53      1443\n",
      "           6       0.00      0.00      0.00       107\n",
      "           7       0.72      0.69      0.71      2659\n",
      "           8       0.62      0.59      0.60      2697\n",
      "           9       0.35      0.13      0.19       150\n",
      "          10       0.18      0.03      0.05        74\n",
      "          11       1.00      0.15      0.26        40\n",
      "          12       0.06      0.02      0.03        45\n",
      "          13       0.61      0.71      0.65       431\n",
      "          14       0.40      0.60      0.48       144\n",
      "          15       0.25      0.04      0.07        50\n",
      "          16       0.11      0.09      0.10        56\n",
      "          17       0.00      0.00      0.00        34\n",
      "          18       0.38      0.32      0.35       192\n",
      "          19       0.11      0.10      0.10       151\n",
      "          20       0.45      0.26      0.33       143\n",
      "          21       0.32      0.47      0.38      1045\n",
      "          22       0.62      0.26      0.36        93\n",
      "          23       0.33      0.10      0.15        81\n",
      "          24       0.32      0.26      0.29       309\n",
      "          25       0.00      0.00      0.00        20\n",
      "          26       0.84      0.80      0.82       200\n",
      "\n",
      "    accuracy                           0.54     10843\n",
      "   macro avg       0.37      0.27      0.29     10843\n",
      "weighted avg       0.54      0.54      0.53     10843\n",
      "\n"
     ]
    }
   ],
   "source": [
    "# Print classification report \n",
    "print(\"Bernoulli Naive Bayes:\")\n",
    "print(classification_report(y_val, bernoulli_nb_val_pred))\n"
   ]
  },
  {
   "cell_type": "markdown",
   "id": "5efc4fed",
   "metadata": {},
   "source": [
    "# Logistic Regression:"
   ]
  },
  {
   "cell_type": "code",
   "execution_count": 43,
   "id": "d9248acd",
   "metadata": {},
   "outputs": [
    {
     "name": "stdout",
     "output_type": "stream",
     "text": [
      "Logistic Regression:\n",
      "Training Accuracy: 0.9996310898987802\n",
      "Validation Accuracy: 0.4743152264133542\n"
     ]
    },
    {
     "name": "stderr",
     "output_type": "stream",
     "text": [
      "C:\\Users\\RAM_ANURAG\\anaconda3\\Lib\\site-packages\\sklearn\\linear_model\\_logistic.py:460: ConvergenceWarning: lbfgs failed to converge (status=1):\n",
      "STOP: TOTAL NO. of ITERATIONS REACHED LIMIT.\n",
      "\n",
      "Increase the number of iterations (max_iter) or scale the data as shown in:\n",
      "    https://scikit-learn.org/stable/modules/preprocessing.html\n",
      "Please also refer to the documentation for alternative solver options:\n",
      "    https://scikit-learn.org/stable/modules/linear_model.html#logistic-regression\n",
      "  n_iter_i = _check_optimize_result(\n"
     ]
    }
   ],
   "source": [
    "# Logistic Regression\n",
    "logistic_model = LogisticRegression()\n",
    "logistic_model.fit(X_train, y_train)\n",
    "logistic_train_pred = logistic_model.predict(X_train)\n",
    "logistic_val_pred = logistic_model.predict(X_val)\n",
    "logistic_train_accuracy = accuracy_score(y_train, logistic_train_pred)\n",
    "logistic_val_accuracy = accuracy_score(y_val, logistic_val_pred)\n",
    "\n",
    "\n",
    "# Print the accuracies\n",
    "print(\"Logistic Regression:\")\n",
    "print(\"Training Accuracy:\", logistic_train_accuracy)\n",
    "print(\"Validation Accuracy:\", logistic_val_accuracy)"
   ]
  },
  {
   "cell_type": "code",
   "execution_count": 44,
   "id": "427879f4",
   "metadata": {},
   "outputs": [
    {
     "name": "stdout",
     "output_type": "stream",
     "text": [
      "Logistic Regression:\n",
      "              precision    recall  f1-score   support\n",
      "\n",
      "           0       0.37      0.29      0.32       263\n",
      "           1       0.63      0.42      0.50       112\n",
      "           2       0.22      0.21      0.21       139\n",
      "           3       0.17      0.09      0.11       104\n",
      "           4       0.03      0.02      0.02        61\n",
      "           5       0.41      0.49      0.45      1443\n",
      "           6       0.16      0.09      0.12       107\n",
      "           7       0.64      0.65      0.65      2659\n",
      "           8       0.50      0.56      0.53      2697\n",
      "           9       0.24      0.17      0.20       150\n",
      "          10       0.04      0.01      0.02        74\n",
      "          11       0.86      0.47      0.61        40\n",
      "          12       0.06      0.02      0.03        45\n",
      "          13       0.58      0.51      0.54       431\n",
      "          14       0.49      0.44      0.47       144\n",
      "          15       0.14      0.06      0.08        50\n",
      "          16       0.14      0.05      0.08        56\n",
      "          17       0.24      0.15      0.18        34\n",
      "          18       0.31      0.24      0.27       192\n",
      "          19       0.22      0.13      0.17       151\n",
      "          20       0.31      0.19      0.24       143\n",
      "          21       0.26      0.30      0.28      1045\n",
      "          22       0.55      0.41      0.47        93\n",
      "          23       0.46      0.26      0.33        81\n",
      "          24       0.20      0.18      0.19       309\n",
      "          25       0.20      0.15      0.17        20\n",
      "          26       0.86      0.82      0.84       200\n",
      "\n",
      "    accuracy                           0.47     10843\n",
      "   macro avg       0.34      0.27      0.30     10843\n",
      "weighted avg       0.46      0.47      0.47     10843\n",
      "\n"
     ]
    }
   ],
   "source": [
    "# Print classification report \n",
    "print(\"Logistic Regression:\")\n",
    "print(classification_report(y_val, logistic_val_pred))\n"
   ]
  },
  {
   "cell_type": "markdown",
   "id": "76ba8030",
   "metadata": {},
   "source": [
    "##  Prediction on test data"
   ]
  },
  {
   "cell_type": "code",
   "execution_count": 46,
   "id": "729d5d5e",
   "metadata": {},
   "outputs": [
    {
     "data": {
      "text/html": [
       "<div>\n",
       "<style scoped>\n",
       "    .dataframe tbody tr th:only-of-type {\n",
       "        vertical-align: middle;\n",
       "    }\n",
       "\n",
       "    .dataframe tbody tr th {\n",
       "        vertical-align: top;\n",
       "    }\n",
       "\n",
       "    .dataframe thead th {\n",
       "        text-align: right;\n",
       "    }\n",
       "</style>\n",
       "<table border=\"1\" class=\"dataframe\">\n",
       "  <thead>\n",
       "    <tr style=\"text-align: right;\">\n",
       "      <th></th>\n",
       "      <th>Title</th>\n",
       "      <th>Text</th>\n",
       "      <th>Cleaned_Text</th>\n",
       "      <th>Predicted_Genre</th>\n",
       "    </tr>\n",
       "  </thead>\n",
       "  <tbody>\n",
       "    <tr>\n",
       "      <th>1</th>\n",
       "      <td>Edgar's Lunch (1998)</td>\n",
       "      <td>L.R. Brane loves his life - his car, his apar...</td>\n",
       "      <td>l r brane love life car apart job especi girlf...</td>\n",
       "      <td>8</td>\n",
       "    </tr>\n",
       "    <tr>\n",
       "      <th>2</th>\n",
       "      <td>La guerra de papá (1977)</td>\n",
       "      <td>Spain, March 1964: Quico is a very naughty ch...</td>\n",
       "      <td>spain march quico naughti child three belong w...</td>\n",
       "      <td>8</td>\n",
       "    </tr>\n",
       "    <tr>\n",
       "      <th>3</th>\n",
       "      <td>Off the Beaten Track (2010)</td>\n",
       "      <td>One year in the life of Albin and his family ...</td>\n",
       "      <td>one year life albin famili shepherd north tran...</td>\n",
       "      <td>7</td>\n",
       "    </tr>\n",
       "    <tr>\n",
       "      <th>4</th>\n",
       "      <td>Meu Amigo Hindu (2015)</td>\n",
       "      <td>His father has died, he hasn't spoken with hi...</td>\n",
       "      <td>father die spoken brother year seriou cancer d...</td>\n",
       "      <td>8</td>\n",
       "    </tr>\n",
       "    <tr>\n",
       "      <th>5</th>\n",
       "      <td>Er nu zhai (1955)</td>\n",
       "      <td>Before he was known internationally as a mart...</td>\n",
       "      <td>known intern martial art superstar bruce lee a...</td>\n",
       "      <td>8</td>\n",
       "    </tr>\n",
       "    <tr>\n",
       "      <th>...</th>\n",
       "      <td>...</td>\n",
       "      <td>...</td>\n",
       "      <td>...</td>\n",
       "      <td>...</td>\n",
       "    </tr>\n",
       "    <tr>\n",
       "      <th>54196</th>\n",
       "      <td>\"Tales of Light &amp; Dark\" (2013)</td>\n",
       "      <td>Covering multiple genres, Tales of Light &amp; Da...</td>\n",
       "      <td>cover multipl genr tale light dark antholog we...</td>\n",
       "      <td>8</td>\n",
       "    </tr>\n",
       "    <tr>\n",
       "      <th>54197</th>\n",
       "      <td>Der letzte Mohikaner (1965)</td>\n",
       "      <td>As Alice and Cora Munro attempt to find their...</td>\n",
       "      <td>alic cora munro attempt find father british of...</td>\n",
       "      <td>8</td>\n",
       "    </tr>\n",
       "    <tr>\n",
       "      <th>54198</th>\n",
       "      <td>Oliver Twink (2007)</td>\n",
       "      <td>A movie 169 years in the making. Oliver Twist...</td>\n",
       "      <td>movi year make oliv twist art dodger fagin lov...</td>\n",
       "      <td>5</td>\n",
       "    </tr>\n",
       "    <tr>\n",
       "      <th>54199</th>\n",
       "      <td>Slipstream (1973)</td>\n",
       "      <td>Popular, but mysterious rock D.J Mike Mallard...</td>\n",
       "      <td>popular mysteri rock j mike mallard askew broa...</td>\n",
       "      <td>5</td>\n",
       "    </tr>\n",
       "    <tr>\n",
       "      <th>54200</th>\n",
       "      <td>Curitiba Zero Grau (2010)</td>\n",
       "      <td>Curitiba is a city in movement, with rhythms ...</td>\n",
       "      <td>curitiba citi movement rhythm differ pulsat gr...</td>\n",
       "      <td>21</td>\n",
       "    </tr>\n",
       "  </tbody>\n",
       "</table>\n",
       "<p>54200 rows × 4 columns</p>\n",
       "</div>"
      ],
      "text/plain": [
       "                                  Title  \\\n",
       "1                 Edgar's Lunch (1998)    \n",
       "2             La guerra de papá (1977)    \n",
       "3          Off the Beaten Track (2010)    \n",
       "4               Meu Amigo Hindu (2015)    \n",
       "5                    Er nu zhai (1955)    \n",
       "...                                 ...   \n",
       "54196   \"Tales of Light & Dark\" (2013)    \n",
       "54197      Der letzte Mohikaner (1965)    \n",
       "54198              Oliver Twink (2007)    \n",
       "54199                Slipstream (1973)    \n",
       "54200        Curitiba Zero Grau (2010)    \n",
       "\n",
       "                                                    Text  \\\n",
       "1       L.R. Brane loves his life - his car, his apar...   \n",
       "2       Spain, March 1964: Quico is a very naughty ch...   \n",
       "3       One year in the life of Albin and his family ...   \n",
       "4       His father has died, he hasn't spoken with hi...   \n",
       "5       Before he was known internationally as a mart...   \n",
       "...                                                  ...   \n",
       "54196   Covering multiple genres, Tales of Light & Da...   \n",
       "54197   As Alice and Cora Munro attempt to find their...   \n",
       "54198   A movie 169 years in the making. Oliver Twist...   \n",
       "54199   Popular, but mysterious rock D.J Mike Mallard...   \n",
       "54200   Curitiba is a city in movement, with rhythms ...   \n",
       "\n",
       "                                            Cleaned_Text  Predicted_Genre  \n",
       "1      l r brane love life car apart job especi girlf...                8  \n",
       "2      spain march quico naughti child three belong w...                8  \n",
       "3      one year life albin famili shepherd north tran...                7  \n",
       "4      father die spoken brother year seriou cancer d...                8  \n",
       "5      known intern martial art superstar bruce lee a...                8  \n",
       "...                                                  ...              ...  \n",
       "54196  cover multipl genr tale light dark antholog we...                8  \n",
       "54197  alic cora munro attempt find father british of...                8  \n",
       "54198  movi year make oliv twist art dodger fagin lov...                5  \n",
       "54199  popular mysteri rock j mike mallard askew broa...                5  \n",
       "54200  curitiba citi movement rhythm differ pulsat gr...               21  \n",
       "\n",
       "[54200 rows x 4 columns]"
      ]
     },
     "execution_count": 46,
     "metadata": {},
     "output_type": "execute_result"
    }
   ],
   "source": [
    "\n",
    "# Make predictions on the test data\n",
    "test_predictions = bernoulli_nb_model.predict(test_tfidf)\n",
    "\n",
    "# Add predicted genres to the test data DataFrame\n",
    "test_data['Predicted_Genre'] = test_predictions\n",
    "\n",
    "# Save the test data DataFrame with predicted genres to a CSV file\n",
    "test_data.to_csv('predicted_genres.csv', index=False)\n",
    "test_data\n"
   ]
  },
  {
   "cell_type": "code",
   "execution_count": null,
   "id": "88ca69f3",
   "metadata": {},
   "outputs": [],
   "source": []
  }
 ],
 "metadata": {
  "kernelspec": {
   "display_name": "Python 3 (ipykernel)",
   "language": "python",
   "name": "python3"
  },
  "language_info": {
   "codemirror_mode": {
    "name": "ipython",
    "version": 3
   },
   "file_extension": ".py",
   "mimetype": "text/x-python",
   "name": "python",
   "nbconvert_exporter": "python",
   "pygments_lexer": "ipython3",
   "version": "3.11.4"
  }
 },
 "nbformat": 4,
 "nbformat_minor": 5
}
